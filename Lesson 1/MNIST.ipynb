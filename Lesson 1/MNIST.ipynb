{
  "nbformat": 4,
  "nbformat_minor": 0,
  "metadata": {
    "colab": {
      "name": "MNIST.ipynb",
      "provenance": [],
      "collapsed_sections": []
    },
    "kernelspec": {
      "name": "python3",
      "display_name": "Python 3"
    },
    "language_info": {
      "name": "python"
    },
    "widgets": {
      "application/vnd.jupyter.widget-state+json": {
        "8a40bde9da8b47528d686f173f52c0a3": {
          "model_module": "@jupyter-widgets/controls",
          "model_name": "HBoxModel",
          "state": {
            "_view_name": "HBoxView",
            "_dom_classes": [],
            "_model_name": "HBoxModel",
            "_view_module": "@jupyter-widgets/controls",
            "_model_module_version": "1.5.0",
            "_view_count": null,
            "_view_module_version": "1.5.0",
            "box_style": "",
            "layout": "IPY_MODEL_5cbf81c175994613a009dac56e8649a2",
            "_model_module": "@jupyter-widgets/controls",
            "children": [
              "IPY_MODEL_7e7588337cbc4d2bb8cad8fd4a0e82bf",
              "IPY_MODEL_c228367e41774cee999cb1dc1fa71e40"
            ]
          }
        },
        "5cbf81c175994613a009dac56e8649a2": {
          "model_module": "@jupyter-widgets/base",
          "model_name": "LayoutModel",
          "state": {
            "_view_name": "LayoutView",
            "grid_template_rows": null,
            "right": null,
            "justify_content": null,
            "_view_module": "@jupyter-widgets/base",
            "overflow": null,
            "_model_module_version": "1.2.0",
            "_view_count": null,
            "flex_flow": null,
            "width": null,
            "min_width": null,
            "border": null,
            "align_items": null,
            "bottom": null,
            "_model_module": "@jupyter-widgets/base",
            "top": null,
            "grid_column": null,
            "overflow_y": null,
            "overflow_x": null,
            "grid_auto_flow": null,
            "grid_area": null,
            "grid_template_columns": null,
            "flex": null,
            "_model_name": "LayoutModel",
            "justify_items": null,
            "grid_row": null,
            "max_height": null,
            "align_content": null,
            "visibility": null,
            "align_self": null,
            "height": null,
            "min_height": null,
            "padding": null,
            "grid_auto_rows": null,
            "grid_gap": null,
            "max_width": null,
            "order": null,
            "_view_module_version": "1.2.0",
            "grid_template_areas": null,
            "object_position": null,
            "object_fit": null,
            "grid_auto_columns": null,
            "margin": null,
            "display": null,
            "left": null
          }
        },
        "7e7588337cbc4d2bb8cad8fd4a0e82bf": {
          "model_module": "@jupyter-widgets/controls",
          "model_name": "FloatProgressModel",
          "state": {
            "_view_name": "ProgressView",
            "style": "IPY_MODEL_ab9fade5c345410e96bc31a00e5d0881",
            "_dom_classes": [],
            "description": "",
            "_model_name": "FloatProgressModel",
            "bar_style": "success",
            "max": 26421880,
            "_view_module": "@jupyter-widgets/controls",
            "_model_module_version": "1.5.0",
            "value": 26421880,
            "_view_count": null,
            "_view_module_version": "1.5.0",
            "orientation": "horizontal",
            "min": 0,
            "description_tooltip": null,
            "_model_module": "@jupyter-widgets/controls",
            "layout": "IPY_MODEL_c18a3a0734b3448587b8b410d18ccd2c"
          }
        },
        "c228367e41774cee999cb1dc1fa71e40": {
          "model_module": "@jupyter-widgets/controls",
          "model_name": "HTMLModel",
          "state": {
            "_view_name": "HTMLView",
            "style": "IPY_MODEL_443cc6ae35164d7f97c71b60e246b10d",
            "_dom_classes": [],
            "description": "",
            "_model_name": "HTMLModel",
            "placeholder": "​",
            "_view_module": "@jupyter-widgets/controls",
            "_model_module_version": "1.5.0",
            "value": " 26422272/? [00:11&lt;00:00, 2291605.64it/s]",
            "_view_count": null,
            "_view_module_version": "1.5.0",
            "description_tooltip": null,
            "_model_module": "@jupyter-widgets/controls",
            "layout": "IPY_MODEL_0ee26544c22e4a2cae2ea398e7a2074e"
          }
        },
        "ab9fade5c345410e96bc31a00e5d0881": {
          "model_module": "@jupyter-widgets/controls",
          "model_name": "ProgressStyleModel",
          "state": {
            "_view_name": "StyleView",
            "_model_name": "ProgressStyleModel",
            "description_width": "initial",
            "_view_module": "@jupyter-widgets/base",
            "_model_module_version": "1.5.0",
            "_view_count": null,
            "_view_module_version": "1.2.0",
            "bar_color": null,
            "_model_module": "@jupyter-widgets/controls"
          }
        },
        "c18a3a0734b3448587b8b410d18ccd2c": {
          "model_module": "@jupyter-widgets/base",
          "model_name": "LayoutModel",
          "state": {
            "_view_name": "LayoutView",
            "grid_template_rows": null,
            "right": null,
            "justify_content": null,
            "_view_module": "@jupyter-widgets/base",
            "overflow": null,
            "_model_module_version": "1.2.0",
            "_view_count": null,
            "flex_flow": null,
            "width": null,
            "min_width": null,
            "border": null,
            "align_items": null,
            "bottom": null,
            "_model_module": "@jupyter-widgets/base",
            "top": null,
            "grid_column": null,
            "overflow_y": null,
            "overflow_x": null,
            "grid_auto_flow": null,
            "grid_area": null,
            "grid_template_columns": null,
            "flex": null,
            "_model_name": "LayoutModel",
            "justify_items": null,
            "grid_row": null,
            "max_height": null,
            "align_content": null,
            "visibility": null,
            "align_self": null,
            "height": null,
            "min_height": null,
            "padding": null,
            "grid_auto_rows": null,
            "grid_gap": null,
            "max_width": null,
            "order": null,
            "_view_module_version": "1.2.0",
            "grid_template_areas": null,
            "object_position": null,
            "object_fit": null,
            "grid_auto_columns": null,
            "margin": null,
            "display": null,
            "left": null
          }
        },
        "443cc6ae35164d7f97c71b60e246b10d": {
          "model_module": "@jupyter-widgets/controls",
          "model_name": "DescriptionStyleModel",
          "state": {
            "_view_name": "StyleView",
            "_model_name": "DescriptionStyleModel",
            "description_width": "",
            "_view_module": "@jupyter-widgets/base",
            "_model_module_version": "1.5.0",
            "_view_count": null,
            "_view_module_version": "1.2.0",
            "_model_module": "@jupyter-widgets/controls"
          }
        },
        "0ee26544c22e4a2cae2ea398e7a2074e": {
          "model_module": "@jupyter-widgets/base",
          "model_name": "LayoutModel",
          "state": {
            "_view_name": "LayoutView",
            "grid_template_rows": null,
            "right": null,
            "justify_content": null,
            "_view_module": "@jupyter-widgets/base",
            "overflow": null,
            "_model_module_version": "1.2.0",
            "_view_count": null,
            "flex_flow": null,
            "width": null,
            "min_width": null,
            "border": null,
            "align_items": null,
            "bottom": null,
            "_model_module": "@jupyter-widgets/base",
            "top": null,
            "grid_column": null,
            "overflow_y": null,
            "overflow_x": null,
            "grid_auto_flow": null,
            "grid_area": null,
            "grid_template_columns": null,
            "flex": null,
            "_model_name": "LayoutModel",
            "justify_items": null,
            "grid_row": null,
            "max_height": null,
            "align_content": null,
            "visibility": null,
            "align_self": null,
            "height": null,
            "min_height": null,
            "padding": null,
            "grid_auto_rows": null,
            "grid_gap": null,
            "max_width": null,
            "order": null,
            "_view_module_version": "1.2.0",
            "grid_template_areas": null,
            "object_position": null,
            "object_fit": null,
            "grid_auto_columns": null,
            "margin": null,
            "display": null,
            "left": null
          }
        },
        "9744b7fb28814dfba81efd3d559c83b7": {
          "model_module": "@jupyter-widgets/controls",
          "model_name": "HBoxModel",
          "state": {
            "_view_name": "HBoxView",
            "_dom_classes": [],
            "_model_name": "HBoxModel",
            "_view_module": "@jupyter-widgets/controls",
            "_model_module_version": "1.5.0",
            "_view_count": null,
            "_view_module_version": "1.5.0",
            "box_style": "",
            "layout": "IPY_MODEL_79b97e570a404435bbae35c0613b3601",
            "_model_module": "@jupyter-widgets/controls",
            "children": [
              "IPY_MODEL_166c465447e042eba352c4fe9d1acdb9",
              "IPY_MODEL_ba6efc81fc064aa6a1e09907f166bd3e"
            ]
          }
        },
        "79b97e570a404435bbae35c0613b3601": {
          "model_module": "@jupyter-widgets/base",
          "model_name": "LayoutModel",
          "state": {
            "_view_name": "LayoutView",
            "grid_template_rows": null,
            "right": null,
            "justify_content": null,
            "_view_module": "@jupyter-widgets/base",
            "overflow": null,
            "_model_module_version": "1.2.0",
            "_view_count": null,
            "flex_flow": null,
            "width": null,
            "min_width": null,
            "border": null,
            "align_items": null,
            "bottom": null,
            "_model_module": "@jupyter-widgets/base",
            "top": null,
            "grid_column": null,
            "overflow_y": null,
            "overflow_x": null,
            "grid_auto_flow": null,
            "grid_area": null,
            "grid_template_columns": null,
            "flex": null,
            "_model_name": "LayoutModel",
            "justify_items": null,
            "grid_row": null,
            "max_height": null,
            "align_content": null,
            "visibility": null,
            "align_self": null,
            "height": null,
            "min_height": null,
            "padding": null,
            "grid_auto_rows": null,
            "grid_gap": null,
            "max_width": null,
            "order": null,
            "_view_module_version": "1.2.0",
            "grid_template_areas": null,
            "object_position": null,
            "object_fit": null,
            "grid_auto_columns": null,
            "margin": null,
            "display": null,
            "left": null
          }
        },
        "166c465447e042eba352c4fe9d1acdb9": {
          "model_module": "@jupyter-widgets/controls",
          "model_name": "FloatProgressModel",
          "state": {
            "_view_name": "ProgressView",
            "style": "IPY_MODEL_1d749592314648208a75d8c03e1517b9",
            "_dom_classes": [],
            "description": "",
            "_model_name": "FloatProgressModel",
            "bar_style": "success",
            "max": 29515,
            "_view_module": "@jupyter-widgets/controls",
            "_model_module_version": "1.5.0",
            "value": 29515,
            "_view_count": null,
            "_view_module_version": "1.5.0",
            "orientation": "horizontal",
            "min": 0,
            "description_tooltip": null,
            "_model_module": "@jupyter-widgets/controls",
            "layout": "IPY_MODEL_f4d865fbc6184e91a0fcbd1b022684bc"
          }
        },
        "ba6efc81fc064aa6a1e09907f166bd3e": {
          "model_module": "@jupyter-widgets/controls",
          "model_name": "HTMLModel",
          "state": {
            "_view_name": "HTMLView",
            "style": "IPY_MODEL_b1c416e4403041ca93c6249ca0e3a263",
            "_dom_classes": [],
            "description": "",
            "_model_name": "HTMLModel",
            "placeholder": "​",
            "_view_module": "@jupyter-widgets/controls",
            "_model_module_version": "1.5.0",
            "value": " 29696/? [00:07&lt;00:00, 3860.34it/s]",
            "_view_count": null,
            "_view_module_version": "1.5.0",
            "description_tooltip": null,
            "_model_module": "@jupyter-widgets/controls",
            "layout": "IPY_MODEL_2e3f3a48aa3c45619bc2846ac01b0aa3"
          }
        },
        "1d749592314648208a75d8c03e1517b9": {
          "model_module": "@jupyter-widgets/controls",
          "model_name": "ProgressStyleModel",
          "state": {
            "_view_name": "StyleView",
            "_model_name": "ProgressStyleModel",
            "description_width": "initial",
            "_view_module": "@jupyter-widgets/base",
            "_model_module_version": "1.5.0",
            "_view_count": null,
            "_view_module_version": "1.2.0",
            "bar_color": null,
            "_model_module": "@jupyter-widgets/controls"
          }
        },
        "f4d865fbc6184e91a0fcbd1b022684bc": {
          "model_module": "@jupyter-widgets/base",
          "model_name": "LayoutModel",
          "state": {
            "_view_name": "LayoutView",
            "grid_template_rows": null,
            "right": null,
            "justify_content": null,
            "_view_module": "@jupyter-widgets/base",
            "overflow": null,
            "_model_module_version": "1.2.0",
            "_view_count": null,
            "flex_flow": null,
            "width": null,
            "min_width": null,
            "border": null,
            "align_items": null,
            "bottom": null,
            "_model_module": "@jupyter-widgets/base",
            "top": null,
            "grid_column": null,
            "overflow_y": null,
            "overflow_x": null,
            "grid_auto_flow": null,
            "grid_area": null,
            "grid_template_columns": null,
            "flex": null,
            "_model_name": "LayoutModel",
            "justify_items": null,
            "grid_row": null,
            "max_height": null,
            "align_content": null,
            "visibility": null,
            "align_self": null,
            "height": null,
            "min_height": null,
            "padding": null,
            "grid_auto_rows": null,
            "grid_gap": null,
            "max_width": null,
            "order": null,
            "_view_module_version": "1.2.0",
            "grid_template_areas": null,
            "object_position": null,
            "object_fit": null,
            "grid_auto_columns": null,
            "margin": null,
            "display": null,
            "left": null
          }
        },
        "b1c416e4403041ca93c6249ca0e3a263": {
          "model_module": "@jupyter-widgets/controls",
          "model_name": "DescriptionStyleModel",
          "state": {
            "_view_name": "StyleView",
            "_model_name": "DescriptionStyleModel",
            "description_width": "",
            "_view_module": "@jupyter-widgets/base",
            "_model_module_version": "1.5.0",
            "_view_count": null,
            "_view_module_version": "1.2.0",
            "_model_module": "@jupyter-widgets/controls"
          }
        },
        "2e3f3a48aa3c45619bc2846ac01b0aa3": {
          "model_module": "@jupyter-widgets/base",
          "model_name": "LayoutModel",
          "state": {
            "_view_name": "LayoutView",
            "grid_template_rows": null,
            "right": null,
            "justify_content": null,
            "_view_module": "@jupyter-widgets/base",
            "overflow": null,
            "_model_module_version": "1.2.0",
            "_view_count": null,
            "flex_flow": null,
            "width": null,
            "min_width": null,
            "border": null,
            "align_items": null,
            "bottom": null,
            "_model_module": "@jupyter-widgets/base",
            "top": null,
            "grid_column": null,
            "overflow_y": null,
            "overflow_x": null,
            "grid_auto_flow": null,
            "grid_area": null,
            "grid_template_columns": null,
            "flex": null,
            "_model_name": "LayoutModel",
            "justify_items": null,
            "grid_row": null,
            "max_height": null,
            "align_content": null,
            "visibility": null,
            "align_self": null,
            "height": null,
            "min_height": null,
            "padding": null,
            "grid_auto_rows": null,
            "grid_gap": null,
            "max_width": null,
            "order": null,
            "_view_module_version": "1.2.0",
            "grid_template_areas": null,
            "object_position": null,
            "object_fit": null,
            "grid_auto_columns": null,
            "margin": null,
            "display": null,
            "left": null
          }
        },
        "23531ed824aa4fc0a45957cd9afb142d": {
          "model_module": "@jupyter-widgets/controls",
          "model_name": "HBoxModel",
          "state": {
            "_view_name": "HBoxView",
            "_dom_classes": [],
            "_model_name": "HBoxModel",
            "_view_module": "@jupyter-widgets/controls",
            "_model_module_version": "1.5.0",
            "_view_count": null,
            "_view_module_version": "1.5.0",
            "box_style": "",
            "layout": "IPY_MODEL_01761a0fef7e4191a7ca1ae8a2de7d38",
            "_model_module": "@jupyter-widgets/controls",
            "children": [
              "IPY_MODEL_be74c797411f4e08b9d0acc1e5162158",
              "IPY_MODEL_8a0ef6c135a64bf89bbcb990e11bd16b"
            ]
          }
        },
        "01761a0fef7e4191a7ca1ae8a2de7d38": {
          "model_module": "@jupyter-widgets/base",
          "model_name": "LayoutModel",
          "state": {
            "_view_name": "LayoutView",
            "grid_template_rows": null,
            "right": null,
            "justify_content": null,
            "_view_module": "@jupyter-widgets/base",
            "overflow": null,
            "_model_module_version": "1.2.0",
            "_view_count": null,
            "flex_flow": null,
            "width": null,
            "min_width": null,
            "border": null,
            "align_items": null,
            "bottom": null,
            "_model_module": "@jupyter-widgets/base",
            "top": null,
            "grid_column": null,
            "overflow_y": null,
            "overflow_x": null,
            "grid_auto_flow": null,
            "grid_area": null,
            "grid_template_columns": null,
            "flex": null,
            "_model_name": "LayoutModel",
            "justify_items": null,
            "grid_row": null,
            "max_height": null,
            "align_content": null,
            "visibility": null,
            "align_self": null,
            "height": null,
            "min_height": null,
            "padding": null,
            "grid_auto_rows": null,
            "grid_gap": null,
            "max_width": null,
            "order": null,
            "_view_module_version": "1.2.0",
            "grid_template_areas": null,
            "object_position": null,
            "object_fit": null,
            "grid_auto_columns": null,
            "margin": null,
            "display": null,
            "left": null
          }
        },
        "be74c797411f4e08b9d0acc1e5162158": {
          "model_module": "@jupyter-widgets/controls",
          "model_name": "FloatProgressModel",
          "state": {
            "_view_name": "ProgressView",
            "style": "IPY_MODEL_905802a25b8f4ca88e49ebb7a52f37f4",
            "_dom_classes": [],
            "description": "",
            "_model_name": "FloatProgressModel",
            "bar_style": "success",
            "max": 4422102,
            "_view_module": "@jupyter-widgets/controls",
            "_model_module_version": "1.5.0",
            "value": 4422102,
            "_view_count": null,
            "_view_module_version": "1.5.0",
            "orientation": "horizontal",
            "min": 0,
            "description_tooltip": null,
            "_model_module": "@jupyter-widgets/controls",
            "layout": "IPY_MODEL_74dee87542b344dd97046ccf2ca3ea3b"
          }
        },
        "8a0ef6c135a64bf89bbcb990e11bd16b": {
          "model_module": "@jupyter-widgets/controls",
          "model_name": "HTMLModel",
          "state": {
            "_view_name": "HTMLView",
            "style": "IPY_MODEL_5d554cc3bc874ff0b5031384a20bc6dc",
            "_dom_classes": [],
            "description": "",
            "_model_name": "HTMLModel",
            "placeholder": "​",
            "_view_module": "@jupyter-widgets/controls",
            "_model_module_version": "1.5.0",
            "value": " 4422656/? [00:02&lt;00:00, 2144577.37it/s]",
            "_view_count": null,
            "_view_module_version": "1.5.0",
            "description_tooltip": null,
            "_model_module": "@jupyter-widgets/controls",
            "layout": "IPY_MODEL_8d6f26f8175a4086b64ea4bec34522d1"
          }
        },
        "905802a25b8f4ca88e49ebb7a52f37f4": {
          "model_module": "@jupyter-widgets/controls",
          "model_name": "ProgressStyleModel",
          "state": {
            "_view_name": "StyleView",
            "_model_name": "ProgressStyleModel",
            "description_width": "initial",
            "_view_module": "@jupyter-widgets/base",
            "_model_module_version": "1.5.0",
            "_view_count": null,
            "_view_module_version": "1.2.0",
            "bar_color": null,
            "_model_module": "@jupyter-widgets/controls"
          }
        },
        "74dee87542b344dd97046ccf2ca3ea3b": {
          "model_module": "@jupyter-widgets/base",
          "model_name": "LayoutModel",
          "state": {
            "_view_name": "LayoutView",
            "grid_template_rows": null,
            "right": null,
            "justify_content": null,
            "_view_module": "@jupyter-widgets/base",
            "overflow": null,
            "_model_module_version": "1.2.0",
            "_view_count": null,
            "flex_flow": null,
            "width": null,
            "min_width": null,
            "border": null,
            "align_items": null,
            "bottom": null,
            "_model_module": "@jupyter-widgets/base",
            "top": null,
            "grid_column": null,
            "overflow_y": null,
            "overflow_x": null,
            "grid_auto_flow": null,
            "grid_area": null,
            "grid_template_columns": null,
            "flex": null,
            "_model_name": "LayoutModel",
            "justify_items": null,
            "grid_row": null,
            "max_height": null,
            "align_content": null,
            "visibility": null,
            "align_self": null,
            "height": null,
            "min_height": null,
            "padding": null,
            "grid_auto_rows": null,
            "grid_gap": null,
            "max_width": null,
            "order": null,
            "_view_module_version": "1.2.0",
            "grid_template_areas": null,
            "object_position": null,
            "object_fit": null,
            "grid_auto_columns": null,
            "margin": null,
            "display": null,
            "left": null
          }
        },
        "5d554cc3bc874ff0b5031384a20bc6dc": {
          "model_module": "@jupyter-widgets/controls",
          "model_name": "DescriptionStyleModel",
          "state": {
            "_view_name": "StyleView",
            "_model_name": "DescriptionStyleModel",
            "description_width": "",
            "_view_module": "@jupyter-widgets/base",
            "_model_module_version": "1.5.0",
            "_view_count": null,
            "_view_module_version": "1.2.0",
            "_model_module": "@jupyter-widgets/controls"
          }
        },
        "8d6f26f8175a4086b64ea4bec34522d1": {
          "model_module": "@jupyter-widgets/base",
          "model_name": "LayoutModel",
          "state": {
            "_view_name": "LayoutView",
            "grid_template_rows": null,
            "right": null,
            "justify_content": null,
            "_view_module": "@jupyter-widgets/base",
            "overflow": null,
            "_model_module_version": "1.2.0",
            "_view_count": null,
            "flex_flow": null,
            "width": null,
            "min_width": null,
            "border": null,
            "align_items": null,
            "bottom": null,
            "_model_module": "@jupyter-widgets/base",
            "top": null,
            "grid_column": null,
            "overflow_y": null,
            "overflow_x": null,
            "grid_auto_flow": null,
            "grid_area": null,
            "grid_template_columns": null,
            "flex": null,
            "_model_name": "LayoutModel",
            "justify_items": null,
            "grid_row": null,
            "max_height": null,
            "align_content": null,
            "visibility": null,
            "align_self": null,
            "height": null,
            "min_height": null,
            "padding": null,
            "grid_auto_rows": null,
            "grid_gap": null,
            "max_width": null,
            "order": null,
            "_view_module_version": "1.2.0",
            "grid_template_areas": null,
            "object_position": null,
            "object_fit": null,
            "grid_auto_columns": null,
            "margin": null,
            "display": null,
            "left": null
          }
        },
        "3c5c0de0ebba4b74b3dd8f4d838902ec": {
          "model_module": "@jupyter-widgets/controls",
          "model_name": "HBoxModel",
          "state": {
            "_view_name": "HBoxView",
            "_dom_classes": [],
            "_model_name": "HBoxModel",
            "_view_module": "@jupyter-widgets/controls",
            "_model_module_version": "1.5.0",
            "_view_count": null,
            "_view_module_version": "1.5.0",
            "box_style": "",
            "layout": "IPY_MODEL_97b0180730484757ad36e3f62b122d9f",
            "_model_module": "@jupyter-widgets/controls",
            "children": [
              "IPY_MODEL_8306ee9572764f058df55eba765d58f0",
              "IPY_MODEL_06d3c75e681b4ce19d4774b9beac3e60"
            ]
          }
        },
        "97b0180730484757ad36e3f62b122d9f": {
          "model_module": "@jupyter-widgets/base",
          "model_name": "LayoutModel",
          "state": {
            "_view_name": "LayoutView",
            "grid_template_rows": null,
            "right": null,
            "justify_content": null,
            "_view_module": "@jupyter-widgets/base",
            "overflow": null,
            "_model_module_version": "1.2.0",
            "_view_count": null,
            "flex_flow": null,
            "width": null,
            "min_width": null,
            "border": null,
            "align_items": null,
            "bottom": null,
            "_model_module": "@jupyter-widgets/base",
            "top": null,
            "grid_column": null,
            "overflow_y": null,
            "overflow_x": null,
            "grid_auto_flow": null,
            "grid_area": null,
            "grid_template_columns": null,
            "flex": null,
            "_model_name": "LayoutModel",
            "justify_items": null,
            "grid_row": null,
            "max_height": null,
            "align_content": null,
            "visibility": null,
            "align_self": null,
            "height": null,
            "min_height": null,
            "padding": null,
            "grid_auto_rows": null,
            "grid_gap": null,
            "max_width": null,
            "order": null,
            "_view_module_version": "1.2.0",
            "grid_template_areas": null,
            "object_position": null,
            "object_fit": null,
            "grid_auto_columns": null,
            "margin": null,
            "display": null,
            "left": null
          }
        },
        "8306ee9572764f058df55eba765d58f0": {
          "model_module": "@jupyter-widgets/controls",
          "model_name": "FloatProgressModel",
          "state": {
            "_view_name": "ProgressView",
            "style": "IPY_MODEL_fa960df383954fcca7b1582dc9a8a956",
            "_dom_classes": [],
            "description": "",
            "_model_name": "FloatProgressModel",
            "bar_style": "success",
            "max": 5148,
            "_view_module": "@jupyter-widgets/controls",
            "_model_module_version": "1.5.0",
            "value": 5148,
            "_view_count": null,
            "_view_module_version": "1.5.0",
            "orientation": "horizontal",
            "min": 0,
            "description_tooltip": null,
            "_model_module": "@jupyter-widgets/controls",
            "layout": "IPY_MODEL_c6dce6a42c734f1fb7aa88748298d5fb"
          }
        },
        "06d3c75e681b4ce19d4774b9beac3e60": {
          "model_module": "@jupyter-widgets/controls",
          "model_name": "HTMLModel",
          "state": {
            "_view_name": "HTMLView",
            "style": "IPY_MODEL_d7cce49e963a4c4b867764ae6d2c8767",
            "_dom_classes": [],
            "description": "",
            "_model_name": "HTMLModel",
            "placeholder": "​",
            "_view_module": "@jupyter-widgets/controls",
            "_model_module_version": "1.5.0",
            "value": " 6144/? [00:00&lt;00:00, 47166.17it/s]",
            "_view_count": null,
            "_view_module_version": "1.5.0",
            "description_tooltip": null,
            "_model_module": "@jupyter-widgets/controls",
            "layout": "IPY_MODEL_6d02e035c85945faae5ce1056d3bdc3e"
          }
        },
        "fa960df383954fcca7b1582dc9a8a956": {
          "model_module": "@jupyter-widgets/controls",
          "model_name": "ProgressStyleModel",
          "state": {
            "_view_name": "StyleView",
            "_model_name": "ProgressStyleModel",
            "description_width": "initial",
            "_view_module": "@jupyter-widgets/base",
            "_model_module_version": "1.5.0",
            "_view_count": null,
            "_view_module_version": "1.2.0",
            "bar_color": null,
            "_model_module": "@jupyter-widgets/controls"
          }
        },
        "c6dce6a42c734f1fb7aa88748298d5fb": {
          "model_module": "@jupyter-widgets/base",
          "model_name": "LayoutModel",
          "state": {
            "_view_name": "LayoutView",
            "grid_template_rows": null,
            "right": null,
            "justify_content": null,
            "_view_module": "@jupyter-widgets/base",
            "overflow": null,
            "_model_module_version": "1.2.0",
            "_view_count": null,
            "flex_flow": null,
            "width": null,
            "min_width": null,
            "border": null,
            "align_items": null,
            "bottom": null,
            "_model_module": "@jupyter-widgets/base",
            "top": null,
            "grid_column": null,
            "overflow_y": null,
            "overflow_x": null,
            "grid_auto_flow": null,
            "grid_area": null,
            "grid_template_columns": null,
            "flex": null,
            "_model_name": "LayoutModel",
            "justify_items": null,
            "grid_row": null,
            "max_height": null,
            "align_content": null,
            "visibility": null,
            "align_self": null,
            "height": null,
            "min_height": null,
            "padding": null,
            "grid_auto_rows": null,
            "grid_gap": null,
            "max_width": null,
            "order": null,
            "_view_module_version": "1.2.0",
            "grid_template_areas": null,
            "object_position": null,
            "object_fit": null,
            "grid_auto_columns": null,
            "margin": null,
            "display": null,
            "left": null
          }
        },
        "d7cce49e963a4c4b867764ae6d2c8767": {
          "model_module": "@jupyter-widgets/controls",
          "model_name": "DescriptionStyleModel",
          "state": {
            "_view_name": "StyleView",
            "_model_name": "DescriptionStyleModel",
            "description_width": "",
            "_view_module": "@jupyter-widgets/base",
            "_model_module_version": "1.5.0",
            "_view_count": null,
            "_view_module_version": "1.2.0",
            "_model_module": "@jupyter-widgets/controls"
          }
        },
        "6d02e035c85945faae5ce1056d3bdc3e": {
          "model_module": "@jupyter-widgets/base",
          "model_name": "LayoutModel",
          "state": {
            "_view_name": "LayoutView",
            "grid_template_rows": null,
            "right": null,
            "justify_content": null,
            "_view_module": "@jupyter-widgets/base",
            "overflow": null,
            "_model_module_version": "1.2.0",
            "_view_count": null,
            "flex_flow": null,
            "width": null,
            "min_width": null,
            "border": null,
            "align_items": null,
            "bottom": null,
            "_model_module": "@jupyter-widgets/base",
            "top": null,
            "grid_column": null,
            "overflow_y": null,
            "overflow_x": null,
            "grid_auto_flow": null,
            "grid_area": null,
            "grid_template_columns": null,
            "flex": null,
            "_model_name": "LayoutModel",
            "justify_items": null,
            "grid_row": null,
            "max_height": null,
            "align_content": null,
            "visibility": null,
            "align_self": null,
            "height": null,
            "min_height": null,
            "padding": null,
            "grid_auto_rows": null,
            "grid_gap": null,
            "max_width": null,
            "order": null,
            "_view_module_version": "1.2.0",
            "grid_template_areas": null,
            "object_position": null,
            "object_fit": null,
            "grid_auto_columns": null,
            "margin": null,
            "display": null,
            "left": null
          }
        }
      }
    }
  },
  "cells": [
    {
      "cell_type": "code",
      "metadata": {
        "id": "dYkF8dYQqUlV"
      },
      "source": [
        "import torch\n",
        "from torch import nn\n",
        "import torch.nn.functional as F\n",
        "from torch.utils.data import DataLoader\n",
        "from torchvision import datasets\n",
        "from torchvision.transforms import ToTensor, Lambda, Compose\n",
        "import matplotlib.pyplot as plt"
      ],
      "execution_count": null,
      "outputs": []
    },
    {
      "cell_type": "markdown",
      "metadata": {
        "id": "-Wl8nraZRWS8"
      },
      "source": [
        "In this notebook we'll be training the same neural net on two different tasks sequentially. This should help drive home the notion that \"what a neural network does\" is determined entirely by its weights.\n",
        "\n",
        "We'll be working through 2 computer vision tasks and training a small neural network to recognize digits, as well as fashion items in the second iteration.\n",
        "\n",
        "The main point of this notebook and the associated exercise is to demonstrate the point that the performance of neural networks is determined entirely by their weights and also to familiarize you with the general NN training and prediction process."
      ]
    },
    {
      "cell_type": "markdown",
      "metadata": {
        "id": "-5ybUoHkzw-s"
      },
      "source": [
        "# Hyperparameters"
      ]
    },
    {
      "cell_type": "markdown",
      "metadata": {
        "id": "Kaj8pZ8KQQkA"
      },
      "source": [
        "Yet another bit of Jargon. Because \"parameters\" is used interchangeably with \"weights\", the term \"hyperparameters\" is used to refer to adjustable parameters of the training process. Hyperparameter tuning is probably the most important part of achieving high performance with Neural Networks. It's also something of a black art, as there isn't a predictive theory of neural networks which predicts how performance will change based on how Hyperparameters are changed. Choosing good hyperparameters is still, unfortunately, an intuitive and empirical process."
      ]
    },
    {
      "cell_type": "code",
      "metadata": {
        "colab": {
          "base_uri": "https://localhost:8080/"
        },
        "id": "NFRoJ1SFzy9I",
        "outputId": "2081f10c-d8a6-4f17-fb6f-b983440f82b5"
      },
      "source": [
        "# How many samples to include in each iteration of the\n",
        "# Predict -> Measure Performance -> Adjust Weights cycle\n",
        "batch_size = 64\n",
        "\n",
        "# How many times we want to show the entire dataset to the NN\n",
        "epochs = 10\n",
        "\n",
        "# How much we want to adjust weights by. This is the most important\n",
        "# hyperparameter by far.\n",
        "lr = 1e-3\n",
        "\n",
        "# I've used a one cycle policy (oscillating LR) to help achieve \n",
        "# better performance. This is the upper bound for how high the LR\n",
        "# will go.\n",
        "max_lr = 4e-3\n",
        "\n",
        "device = \"cuda\" if torch.cuda.is_available() else \"cpu\"\n",
        "print(\"Using {} device\".format(device))"
      ],
      "execution_count": null,
      "outputs": [
        {
          "output_type": "stream",
          "text": [
            "Using cpu device\n"
          ],
          "name": "stdout"
        }
      ]
    },
    {
      "cell_type": "markdown",
      "metadata": {
        "id": "kFfNpEQjz5vw"
      },
      "source": [
        "# Data prep"
      ]
    },
    {
      "cell_type": "markdown",
      "metadata": {
        "id": "qRDJ6QEfSGK2"
      },
      "source": [
        "Datasets are a pytorch abstraction, but you'll find that regardless of what tensor library you use, you'll probably come up with a similar abstraction. Datasets are just an indexable collection of tuples where we expect the first item in each tuple to be a data sample and the second to be its label. For example, in one tuple, we might find a tensor of an image which represents a \"9\" and then in the second position we might find the label \"9\"."
      ]
    },
    {
      "cell_type": "code",
      "metadata": {
        "id": "zcnu3i7LLYrD",
        "colab": {
          "base_uri": "https://localhost:8080/",
          "height": 539,
          "referenced_widgets": [
            "8a40bde9da8b47528d686f173f52c0a3",
            "5cbf81c175994613a009dac56e8649a2",
            "7e7588337cbc4d2bb8cad8fd4a0e82bf",
            "c228367e41774cee999cb1dc1fa71e40",
            "ab9fade5c345410e96bc31a00e5d0881",
            "c18a3a0734b3448587b8b410d18ccd2c",
            "443cc6ae35164d7f97c71b60e246b10d",
            "0ee26544c22e4a2cae2ea398e7a2074e",
            "9744b7fb28814dfba81efd3d559c83b7",
            "79b97e570a404435bbae35c0613b3601",
            "166c465447e042eba352c4fe9d1acdb9",
            "ba6efc81fc064aa6a1e09907f166bd3e",
            "1d749592314648208a75d8c03e1517b9",
            "f4d865fbc6184e91a0fcbd1b022684bc",
            "b1c416e4403041ca93c6249ca0e3a263",
            "2e3f3a48aa3c45619bc2846ac01b0aa3",
            "23531ed824aa4fc0a45957cd9afb142d",
            "01761a0fef7e4191a7ca1ae8a2de7d38",
            "be74c797411f4e08b9d0acc1e5162158",
            "8a0ef6c135a64bf89bbcb990e11bd16b",
            "905802a25b8f4ca88e49ebb7a52f37f4",
            "74dee87542b344dd97046ccf2ca3ea3b",
            "5d554cc3bc874ff0b5031384a20bc6dc",
            "8d6f26f8175a4086b64ea4bec34522d1",
            "3c5c0de0ebba4b74b3dd8f4d838902ec",
            "97b0180730484757ad36e3f62b122d9f",
            "8306ee9572764f058df55eba765d58f0",
            "06d3c75e681b4ce19d4774b9beac3e60",
            "fa960df383954fcca7b1582dc9a8a956",
            "c6dce6a42c734f1fb7aa88748298d5fb",
            "d7cce49e963a4c4b867764ae6d2c8767",
            "6d02e035c85945faae5ce1056d3bdc3e"
          ]
        },
        "outputId": "66305b47-b417-4608-f731-89a3b9ce08d6"
      },
      "source": [
        "# Comment out these lines during exercise\n",
        "training_data = datasets.FashionMNIST(\n",
        "    root=\"data\",\n",
        "    train=True,\n",
        "    download=True,\n",
        "    transform=ToTensor(),\n",
        ")\n",
        "\n",
        "test_data = datasets.FashionMNIST(\n",
        "    root=\"data\",\n",
        "    train=False,\n",
        "    download=True,\n",
        "    transform=ToTensor(),\n",
        ")\n",
        "\n",
        "# Uncomment these lines during exercise\n",
        "# training_data = datasets.MNIST(\n",
        "#     root=\"data\",\n",
        "#     train=True,\n",
        "#     download=True,\n",
        "#     transform=ToTensor(),\n",
        "# )\n",
        "\n",
        "# test_data = datasets.MNIST(\n",
        "#     root=\"data\",\n",
        "#     train=False,\n",
        "#     download=True,\n",
        "#     transform=ToTensor(),\n",
        "# )\n",
        "\n",
        "train_dataloader = DataLoader(training_data, batch_size=batch_size)\n",
        "test_dataloader = DataLoader(test_data, batch_size=batch_size)"
      ],
      "execution_count": null,
      "outputs": [
        {
          "output_type": "stream",
          "text": [
            "Downloading http://fashion-mnist.s3-website.eu-central-1.amazonaws.com/train-images-idx3-ubyte.gz\n",
            "Downloading http://fashion-mnist.s3-website.eu-central-1.amazonaws.com/train-images-idx3-ubyte.gz to data/FashionMNIST/raw/train-images-idx3-ubyte.gz\n"
          ],
          "name": "stdout"
        },
        {
          "output_type": "display_data",
          "data": {
            "application/vnd.jupyter.widget-view+json": {
              "model_id": "8a40bde9da8b47528d686f173f52c0a3",
              "version_minor": 0,
              "version_major": 2
            },
            "text/plain": [
              "HBox(children=(FloatProgress(value=0.0, max=26421880.0), HTML(value='')))"
            ]
          },
          "metadata": {
            "tags": []
          }
        },
        {
          "output_type": "stream",
          "text": [
            "\n",
            "Extracting data/FashionMNIST/raw/train-images-idx3-ubyte.gz to data/FashionMNIST/raw\n",
            "\n",
            "Downloading http://fashion-mnist.s3-website.eu-central-1.amazonaws.com/train-labels-idx1-ubyte.gz\n",
            "Downloading http://fashion-mnist.s3-website.eu-central-1.amazonaws.com/train-labels-idx1-ubyte.gz to data/FashionMNIST/raw/train-labels-idx1-ubyte.gz\n"
          ],
          "name": "stdout"
        },
        {
          "output_type": "display_data",
          "data": {
            "application/vnd.jupyter.widget-view+json": {
              "model_id": "9744b7fb28814dfba81efd3d559c83b7",
              "version_minor": 0,
              "version_major": 2
            },
            "text/plain": [
              "HBox(children=(FloatProgress(value=0.0, max=29515.0), HTML(value='')))"
            ]
          },
          "metadata": {
            "tags": []
          }
        },
        {
          "output_type": "stream",
          "text": [
            "\n",
            "Extracting data/FashionMNIST/raw/train-labels-idx1-ubyte.gz to data/FashionMNIST/raw\n",
            "\n",
            "Downloading http://fashion-mnist.s3-website.eu-central-1.amazonaws.com/t10k-images-idx3-ubyte.gz\n",
            "Downloading http://fashion-mnist.s3-website.eu-central-1.amazonaws.com/t10k-images-idx3-ubyte.gz to data/FashionMNIST/raw/t10k-images-idx3-ubyte.gz\n"
          ],
          "name": "stdout"
        },
        {
          "output_type": "display_data",
          "data": {
            "application/vnd.jupyter.widget-view+json": {
              "model_id": "23531ed824aa4fc0a45957cd9afb142d",
              "version_minor": 0,
              "version_major": 2
            },
            "text/plain": [
              "HBox(children=(FloatProgress(value=0.0, max=4422102.0), HTML(value='')))"
            ]
          },
          "metadata": {
            "tags": []
          }
        },
        {
          "output_type": "stream",
          "text": [
            "\n",
            "Extracting data/FashionMNIST/raw/t10k-images-idx3-ubyte.gz to data/FashionMNIST/raw\n",
            "\n",
            "Downloading http://fashion-mnist.s3-website.eu-central-1.amazonaws.com/t10k-labels-idx1-ubyte.gz\n",
            "Downloading http://fashion-mnist.s3-website.eu-central-1.amazonaws.com/t10k-labels-idx1-ubyte.gz to data/FashionMNIST/raw/t10k-labels-idx1-ubyte.gz\n"
          ],
          "name": "stdout"
        },
        {
          "output_type": "display_data",
          "data": {
            "application/vnd.jupyter.widget-view+json": {
              "model_id": "3c5c0de0ebba4b74b3dd8f4d838902ec",
              "version_minor": 0,
              "version_major": 2
            },
            "text/plain": [
              "HBox(children=(FloatProgress(value=0.0, max=5148.0), HTML(value='')))"
            ]
          },
          "metadata": {
            "tags": []
          }
        },
        {
          "output_type": "stream",
          "text": [
            "\n",
            "Extracting data/FashionMNIST/raw/t10k-labels-idx1-ubyte.gz to data/FashionMNIST/raw\n",
            "\n"
          ],
          "name": "stdout"
        },
        {
          "output_type": "stream",
          "text": [
            "/usr/local/lib/python3.7/dist-packages/torchvision/datasets/mnist.py:498: UserWarning: The given NumPy array is not writeable, and PyTorch does not support non-writeable tensors. This means you can write to the underlying (supposedly non-writeable) NumPy array using the tensor. You may want to copy the array to protect its data or make it writeable before converting it to a tensor. This type of warning will be suppressed for the rest of this program. (Triggered internally at  /pytorch/torch/csrc/utils/tensor_numpy.cpp:180.)\n",
            "  return torch.from_numpy(parsed.astype(m[2], copy=False)).view(*s)\n"
          ],
          "name": "stderr"
        }
      ]
    },
    {
      "cell_type": "markdown",
      "metadata": {
        "id": "B21swmSfzrSR"
      },
      "source": [
        "# Network Definition"
      ]
    },
    {
      "cell_type": "code",
      "metadata": {
        "id": "9k52Lo5xL9rl"
      },
      "source": [
        "class NeuralNetwork(nn.Module):\n",
        "  # This is where we define the layers in our NN.\n",
        "  def __init__(self):\n",
        "    super(NeuralNetwork, self).__init__()\n",
        "    self.flatten = nn.Flatten()\n",
        "    self.linear_relu_stack = nn.Sequential(\n",
        "        nn.Linear(28*28, 512),\n",
        "        nn.ReLU(),\n",
        "        nn.Linear(512, 512),\n",
        "        nn.ReLU(),\n",
        "        nn.Linear(512, 10)\n",
        "    )\n",
        "\n",
        "  # This is mostly irrelevant for now, but this is what gets called if we \n",
        "  # invoke an instance of this class as a function. This is where we define\n",
        "  # the architecture of our NN.\n",
        "  def forward(self, x):\n",
        "    x = self.flatten(x)\n",
        "    x = self.linear_relu_stack(x)\n",
        "    logits = F.softmax(x, dim=1)\n",
        "    return logits\n",
        "\n",
        "  # This is the first part of the ML cycle we've described. Here we are making\n",
        "  # predictions and then measuring their performance via loss.\n",
        "  def training_step(self, batch):\n",
        "    X, y = batch\n",
        "    preds = self(X)\n",
        "    loss = F.cross_entropy(preds, y)\n",
        "    return loss\n",
        "\n",
        "  def test_step(self, batch):\n",
        "    X, y = batch\n",
        "    preds = self(X)\n",
        "    loss = F.cross_entropy(preds, y)\n",
        "    return loss"
      ],
      "execution_count": null,
      "outputs": []
    },
    {
      "cell_type": "markdown",
      "metadata": {
        "id": "12xLxcoYzmvv"
      },
      "source": [
        "# Utilities"
      ]
    },
    {
      "cell_type": "code",
      "metadata": {
        "id": "E4sBcJa_usze"
      },
      "source": [
        "class Trainer:\n",
        "  # This is the rest of the training process. Mostly this handles using the\n",
        "  # loss we calculate from each batch to adjust our weights accordingly.\n",
        "  def train(self, model, dataloader, optimizer, scheduler=None):\n",
        "    size = len(dataloader.dataset)\n",
        "    for batch_idx, (X, y) in enumerate(dataloader):\n",
        "      batch = (X.to(device), y.to(device))\n",
        "      loss = model.training_step(batch)\n",
        "\n",
        "      optimizer.zero_grad()\n",
        "      loss.backward()\n",
        "      optimizer.step()\n",
        "      if scheduler:\n",
        "        scheduler.step()\n",
        "      if batch_idx % 100 == 0:\n",
        "        loss, current = loss.item(), batch_idx * len(X)\n",
        "        print(f\"loss: {loss:>7f} [{current:>5d}/{size:>5d}]\")\n",
        "\n",
        "  def test(self, model, dataloader):\n",
        "    size = len(dataloader.dataset)\n",
        "    model.eval()\n",
        "    test_loss, correct = 0, 0\n",
        "    with torch.no_grad():\n",
        "      for X, y in dataloader:\n",
        "        X, y = X.to(device), y.to(device)\n",
        "        batch = (X, y)\n",
        "        pred = model(X)\n",
        "        loss = model.test_step(batch)\n",
        "        test_loss += loss.item()\n",
        "        correct += (pred.argmax(1) == y).type(torch.float).sum().item()\n",
        "    test_loss /= size\n",
        "    correct /= size\n",
        "    print(f\"Test Error: \\n Accuracy: {(100*correct):>0.1f}%, Avg loss: {test_loss:>8f} \\n\")"
      ],
      "execution_count": null,
      "outputs": []
    },
    {
      "cell_type": "markdown",
      "metadata": {
        "id": "0LumFQevzkW9"
      },
      "source": [
        "# Training"
      ]
    },
    {
      "cell_type": "code",
      "metadata": {
        "colab": {
          "base_uri": "https://localhost:8080/"
        },
        "id": "GGDrWFkxTKz9",
        "outputId": "09551fd8-4e3e-41bc-9101-02b4db327097"
      },
      "source": [
        "model = NeuralNetwork().to(device)\n",
        "optimizer = torch.optim.SGD(model.parameters(), lr=lr)\n",
        "scheduler = torch.optim.lr_scheduler.OneCycleLR(optimizer, max_lr, epochs=epochs, steps_per_epoch=len(train_dataloader))\n",
        "trainer = Trainer()\n",
        "\n",
        "for t in range(epochs):\n",
        "  print(f\"Epoch {t+1}\\n-------------------------------\")\n",
        "  trainer.train(model, train_dataloader, optimizer, scheduler)\n",
        "  trainer.test(model, test_dataloader)\n",
        "print(\"Done!\")"
      ],
      "execution_count": null,
      "outputs": [
        {
          "output_type": "stream",
          "text": [
            "Epoch 1\n",
            "-------------------------------\n",
            "loss: 2.303651 [    0/60000]\n",
            "loss: 2.302346 [ 6400/60000]\n",
            "loss: 2.301708 [12800/60000]\n",
            "loss: 2.301029 [19200/60000]\n",
            "loss: 2.300348 [25600/60000]\n",
            "loss: 2.299434 [32000/60000]\n",
            "loss: 2.298763 [38400/60000]\n",
            "loss: 2.296696 [44800/60000]\n",
            "loss: 2.295401 [51200/60000]\n",
            "loss: 2.291653 [57600/60000]\n",
            "Test Error: \n",
            " Accuracy: 28.2%, Avg loss: 0.035937 \n",
            "\n",
            "Epoch 2\n",
            "-------------------------------\n",
            "loss: 2.291814 [    0/60000]\n",
            "loss: 2.287728 [ 6400/60000]\n",
            "loss: 2.275464 [12800/60000]\n",
            "loss: 2.271058 [19200/60000]\n",
            "loss: 2.249204 [25600/60000]\n",
            "loss: 2.196136 [32000/60000]\n",
            "loss: 2.188965 [38400/60000]\n",
            "loss: 2.114368 [44800/60000]\n",
            "loss: 2.121551 [51200/60000]\n",
            "loss: 2.028365 [57600/60000]\n",
            "Test Error: \n",
            " Accuracy: 55.2%, Avg loss: 0.031441 \n",
            "\n",
            "Epoch 3\n",
            "-------------------------------\n",
            "loss: 2.086274 [    0/60000]\n",
            "loss: 2.026510 [ 6400/60000]\n",
            "loss: 1.919890 [12800/60000]\n",
            "loss: 1.919947 [19200/60000]\n",
            "loss: 1.851798 [25600/60000]\n",
            "loss: 1.812759 [32000/60000]\n",
            "loss: 1.831429 [38400/60000]\n",
            "loss: 1.813023 [44800/60000]\n",
            "loss: 1.812640 [51200/60000]\n",
            "loss: 1.774472 [57600/60000]\n",
            "Test Error: \n",
            " Accuracy: 68.2%, Avg loss: 0.028275 \n",
            "\n",
            "Epoch 4\n",
            "-------------------------------\n",
            "loss: 1.802294 [    0/60000]\n",
            "loss: 1.864243 [ 6400/60000]\n",
            "loss: 1.722153 [12800/60000]\n",
            "loss: 1.802955 [19200/60000]\n",
            "loss: 1.781421 [25600/60000]\n",
            "loss: 1.728783 [32000/60000]\n",
            "loss: 1.764376 [38400/60000]\n",
            "loss: 1.741382 [44800/60000]\n",
            "loss: 1.734845 [51200/60000]\n",
            "loss: 1.750055 [57600/60000]\n",
            "Test Error: \n",
            " Accuracy: 75.6%, Avg loss: 0.027306 \n",
            "\n",
            "Epoch 5\n",
            "-------------------------------\n",
            "loss: 1.718039 [    0/60000]\n",
            "loss: 1.798651 [ 6400/60000]\n",
            "loss: 1.657883 [12800/60000]\n",
            "loss: 1.766352 [19200/60000]\n",
            "loss: 1.737837 [25600/60000]\n",
            "loss: 1.675857 [32000/60000]\n",
            "loss: 1.715976 [38400/60000]\n",
            "loss: 1.707438 [44800/60000]\n",
            "loss: 1.698626 [51200/60000]\n",
            "loss: 1.734231 [57600/60000]\n",
            "Test Error: \n",
            " Accuracy: 77.6%, Avg loss: 0.026796 \n",
            "\n",
            "Epoch 6\n",
            "-------------------------------\n",
            "loss: 1.690421 [    0/60000]\n",
            "loss: 1.768180 [ 6400/60000]\n",
            "loss: 1.638479 [12800/60000]\n",
            "loss: 1.748514 [19200/60000]\n",
            "loss: 1.716873 [25600/60000]\n",
            "loss: 1.656095 [32000/60000]\n",
            "loss: 1.696155 [38400/60000]\n",
            "loss: 1.696845 [44800/60000]\n",
            "loss: 1.691882 [51200/60000]\n",
            "loss: 1.728435 [57600/60000]\n",
            "Test Error: \n",
            " Accuracy: 78.3%, Avg loss: 0.026572 \n",
            "\n",
            "Epoch 7\n",
            "-------------------------------\n",
            "loss: 1.684733 [    0/60000]\n",
            "loss: 1.754415 [ 6400/60000]\n",
            "loss: 1.635373 [12800/60000]\n",
            "loss: 1.737579 [19200/60000]\n",
            "loss: 1.708983 [25600/60000]\n",
            "loss: 1.650665 [32000/60000]\n",
            "loss: 1.685740 [38400/60000]\n",
            "loss: 1.691870 [44800/60000]\n",
            "loss: 1.689694 [51200/60000]\n",
            "loss: 1.723927 [57600/60000]\n",
            "Test Error: \n",
            " Accuracy: 78.9%, Avg loss: 0.026464 \n",
            "\n",
            "Epoch 8\n",
            "-------------------------------\n",
            "loss: 1.681496 [    0/60000]\n",
            "loss: 1.744119 [ 6400/60000]\n",
            "loss: 1.632336 [12800/60000]\n",
            "loss: 1.728910 [19200/60000]\n",
            "loss: 1.702569 [25600/60000]\n",
            "loss: 1.648912 [32000/60000]\n",
            "loss: 1.679468 [38400/60000]\n",
            "loss: 1.689945 [44800/60000]\n",
            "loss: 1.689880 [51200/60000]\n",
            "loss: 1.718335 [57600/60000]\n",
            "Test Error: \n",
            " Accuracy: 78.8%, Avg loss: 0.026420 \n",
            "\n",
            "Epoch 9\n",
            "-------------------------------\n",
            "loss: 1.678380 [    0/60000]\n",
            "loss: 1.737491 [ 6400/60000]\n",
            "loss: 1.630356 [12800/60000]\n",
            "loss: 1.721990 [19200/60000]\n",
            "loss: 1.695585 [25600/60000]\n",
            "loss: 1.647243 [32000/60000]\n",
            "loss: 1.675213 [38400/60000]\n",
            "loss: 1.688030 [44800/60000]\n",
            "loss: 1.687714 [51200/60000]\n",
            "loss: 1.715165 [57600/60000]\n",
            "Test Error: \n",
            " Accuracy: 79.2%, Avg loss: 0.026370 \n",
            "\n",
            "Epoch 10\n",
            "-------------------------------\n",
            "loss: 1.678407 [    0/60000]\n",
            "loss: 1.736114 [ 6400/60000]\n",
            "loss: 1.630449 [12800/60000]\n",
            "loss: 1.716266 [19200/60000]\n",
            "loss: 1.694358 [25600/60000]\n",
            "loss: 1.647455 [32000/60000]\n",
            "loss: 1.672866 [38400/60000]\n",
            "loss: 1.685851 [44800/60000]\n",
            "loss: 1.688767 [51200/60000]\n",
            "loss: 1.716324 [57600/60000]\n",
            "Test Error: \n",
            " Accuracy: 79.3%, Avg loss: 0.026352 \n",
            "\n",
            "Done!\n"
          ],
          "name": "stdout"
        }
      ]
    },
    {
      "cell_type": "markdown",
      "metadata": {
        "id": "HlrH5d3-zflJ"
      },
      "source": [
        "# Prediction"
      ]
    },
    {
      "cell_type": "code",
      "metadata": {
        "colab": {
          "base_uri": "https://localhost:8080/",
          "height": 282
        },
        "id": "MErsMx4hTNxy",
        "outputId": "45a89da6-c89f-40c0-9e2a-a9336c44c001"
      },
      "source": [
        "# Comment out these lines during exercise\n",
        "classes = [\n",
        "    \"T-shirt/top\",\n",
        "    \"Trouser\",\n",
        "    \"Pullover\",\n",
        "    \"Dress\",\n",
        "    \"Coat\",\n",
        "    \"Sandal\",\n",
        "    \"Shirt\",\n",
        "    \"Sneaker\",\n",
        "    \"Bag\",\n",
        "    \"Ankle boot\",\n",
        "]\n",
        "\n",
        "# Uncomment these lines during exercise\n",
        "# classes = [\n",
        "#     \"0\",\n",
        "#     \"1\",\n",
        "#     \"2\",\n",
        "#     \"3\",\n",
        "#     \"4\",\n",
        "#     \"5\",\n",
        "#     \"6\",\n",
        "#     \"7\",\n",
        "#     \"8\",\n",
        "#     \"9\",\n",
        "# ]\n",
        "\n",
        "model.eval()\n",
        "x, y = test_data[101][0], test_data[101][1]\n",
        "with torch.no_grad():\n",
        "  pred = model(x)\n",
        "  predicted, actual = classes[pred[0].argmax(0)], classes[y]\n",
        "  plt.imshow(x.squeeze(), cmap='gray')\n",
        "  print(f'Predicted: \"{predicted}\", Actual: \"{actual}\"')"
      ],
      "execution_count": null,
      "outputs": [
        {
          "output_type": "stream",
          "text": [
            "Predicted: \"Coat\", Actual: \"Shirt\"\n"
          ],
          "name": "stdout"
        },
        {
          "output_type": "display_data",
          "data": {
            "image/png": "[encoded data removed]",
            "text/plain": [
              "<Figure size 432x288 with 1 Axes>"
            ]
          },
          "metadata": {
            "tags": [],
            "needs_background": "light"
          }
        }
      ]
    },
    {
      "cell_type": "markdown",
      "metadata": {
        "id": "ivyJL4erCX3s"
      },
      "source": [
        "# Exercise\n",
        "\n",
        "In the data prep and prediction sections, comment/uncomment the indicated lines and re-run the notebook. Does the change in behavior surprise you?"
      ]
    }
  ]
}